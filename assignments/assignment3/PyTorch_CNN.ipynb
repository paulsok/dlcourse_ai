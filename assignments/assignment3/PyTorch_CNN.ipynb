{
  "nbformat": 4,
  "nbformat_minor": 0,
  "metadata": {
    "accelerator": "GPU",
    "colab": {
      "name": "PyTorch_CNN.ipynb",
      "provenance": [],
      "collapsed_sections": []
    },
    "kernelspec": {
      "display_name": "Python 3",
      "language": "python",
      "name": "python3"
    },
    "language_info": {
      "codemirror_mode": {
        "name": "ipython",
        "version": 3
      },
      "file_extension": ".py",
      "mimetype": "text/x-python",
      "name": "python",
      "nbconvert_exporter": "python",
      "pygments_lexer": "ipython3",
      "version": "3.7.0"
    }
  },
  "cells": [
    {
      "cell_type": "markdown",
      "metadata": {
        "id": "N3uOILc9QmVt"
      },
      "source": [
        "# Задание 3.2 - сверточные нейронные сети (CNNs) в PyTorch\n",
        "\n",
        "Это упражнение мы буде выполнять в Google Colab - https://colab.research.google.com/  \n",
        "Google Colab позволяет запускать код в notebook в облаке Google, где можно воспользоваться бесплатным GPU!  \n",
        "\n",
        "Авторы курса благодарят компанию Google и надеятся, что праздник не закончится.\n",
        "\n",
        "Туториал по настройке Google Colab:  \n",
        "https://medium.com/deep-learning-turkey/google-colab-free-gpu-tutorial-e113627b9f5d  \n",
        "(Keras инсталлировать не нужно, наш notebook сам установит PyTorch)\n"
      ]
    },
    {
      "cell_type": "code",
      "metadata": {
        "colab": {
          "base_uri": "https://localhost:8080/"
        },
        "id": "FcXBeP1O7cnY",
        "outputId": "e5354dab-886a-462d-dc95-22c52458a909"
      },
      "source": [
        "# Intstall PyTorch and download data\n",
        "!pip3 install torch torchvision\n",
        "\n",
        "!wget -c http://ufldl.stanford.edu/housenumbers/train_32x32.mat http://ufldl.stanford.edu/housenumbers/test_32x32.mat"
      ],
      "execution_count": 1,
      "outputs": [
        {
          "output_type": "stream",
          "text": [
            "Requirement already satisfied: torch in /usr/local/lib/python3.7/dist-packages (1.8.1+cu101)\n",
            "Requirement already satisfied: torchvision in /usr/local/lib/python3.7/dist-packages (0.9.1+cu101)\n",
            "Requirement already satisfied: numpy in /usr/local/lib/python3.7/dist-packages (from torch) (1.19.5)\n",
            "Requirement already satisfied: typing-extensions in /usr/local/lib/python3.7/dist-packages (from torch) (3.7.4.3)\n",
            "Requirement already satisfied: pillow>=4.1.1 in /usr/local/lib/python3.7/dist-packages (from torchvision) (7.1.2)\n",
            "--2021-06-12 12:46:54--  http://ufldl.stanford.edu/housenumbers/train_32x32.mat\n",
            "Resolving ufldl.stanford.edu (ufldl.stanford.edu)... 171.64.68.10\n",
            "Connecting to ufldl.stanford.edu (ufldl.stanford.edu)|171.64.68.10|:80... connected.\n",
            "HTTP request sent, awaiting response... 200 OK\n",
            "Length: 182040794 (174M) [text/plain]\n",
            "Saving to: ‘train_32x32.mat’\n",
            "\n",
            "train_32x32.mat     100%[===================>] 173.61M  20.3MB/s    in 9.8s    \n",
            "\n",
            "2021-06-12 12:47:05 (17.7 MB/s) - ‘train_32x32.mat’ saved [182040794/182040794]\n",
            "\n",
            "--2021-06-12 12:47:05--  http://ufldl.stanford.edu/housenumbers/test_32x32.mat\n",
            "Reusing existing connection to ufldl.stanford.edu:80.\n",
            "HTTP request sent, awaiting response... 200 OK\n",
            "Length: 64275384 (61M) [text/plain]\n",
            "Saving to: ‘test_32x32.mat’\n",
            "\n",
            "test_32x32.mat      100%[===================>]  61.30M  21.1MB/s    in 2.9s    \n",
            "\n",
            "2021-06-12 12:47:08 (21.1 MB/s) - ‘test_32x32.mat’ saved [64275384/64275384]\n",
            "\n",
            "FINISHED --2021-06-12 12:47:08--\n",
            "Total wall clock time: 13s\n",
            "Downloaded: 2 files, 235M in 13s (18.4 MB/s)\n"
          ],
          "name": "stdout"
        }
      ]
    },
    {
      "cell_type": "code",
      "metadata": {
        "id": "-afwWw-Q85vD"
      },
      "source": [
        "from collections import namedtuple\n",
        "\n",
        "import matplotlib.pyplot as plt\n",
        "import numpy as np\n",
        "import PIL\n",
        "import torch\n",
        "import torch.nn as nn\n",
        "import torch.optim as optim\n",
        "import torchvision.datasets as dset\n",
        "from torch.utils.data.sampler import SubsetRandomSampler\n",
        "\n",
        "from torchvision import transforms"
      ],
      "execution_count": 2,
      "outputs": []
    },
    {
      "cell_type": "code",
      "metadata": {
        "id": "NNU-OD9O9ltP"
      },
      "source": [
        "device = torch.device(\"cuda:0\") # Let's make sure GPU is available!"
      ],
      "execution_count": 3,
      "outputs": []
    },
    {
      "cell_type": "markdown",
      "metadata": {
        "id": "0sO47VweQmV0"
      },
      "source": [
        "# Загружаем данные"
      ]
    },
    {
      "cell_type": "code",
      "metadata": {
        "id": "YAvkoRx-9FsP"
      },
      "source": [
        "# First, lets load the dataset\n",
        "data_train = dset.SVHN('./', \n",
        "                       transform=transforms.Compose([\n",
        "                           transforms.ToTensor(),\n",
        "                           transforms.Normalize(mean=[0.43,0.44,0.47],\n",
        "                                               std=[0.20,0.20,0.20])                           \n",
        "                       ])\n",
        "                      )\n",
        "data_test = dset.SVHN('./', split='test', transform=transforms.Compose([\n",
        "                           transforms.ToTensor(),\n",
        "                           transforms.Normalize(mean=[0.43,0.44,0.47],\n",
        "                                               std=[0.20,0.20,0.20])                           \n",
        "                       ]))"
      ],
      "execution_count": 4,
      "outputs": []
    },
    {
      "cell_type": "markdown",
      "metadata": {
        "id": "8vqNMANPQmV2"
      },
      "source": [
        "Разделяем данные на training и validation.\n",
        "\n",
        "На всякий случай для подробностей - https://pytorch.org/tutorials/beginner/data_loading_tutorial.html"
      ]
    },
    {
      "cell_type": "code",
      "metadata": {
        "id": "YRnr8CPg7Hli"
      },
      "source": [
        "batch_size = 64\n",
        "\n",
        "data_size = data_train.data.shape[0]\n",
        "validation_split = .2\n",
        "split = int(np.floor(validation_split * data_size))\n",
        "indices = list(range(data_size))\n",
        "np.random.shuffle(indices)\n",
        "\n",
        "train_indices, val_indices = indices[split:], indices[:split]\n",
        "\n",
        "train_sampler = SubsetRandomSampler(train_indices)\n",
        "val_sampler = SubsetRandomSampler(val_indices)\n",
        "\n",
        "train_loader = torch.utils.data.DataLoader(data_train, batch_size=batch_size, \n",
        "                                           sampler=train_sampler)\n",
        "val_loader = torch.utils.data.DataLoader(data_train, batch_size=batch_size,\n",
        "                                         sampler=val_sampler)"
      ],
      "execution_count": 5,
      "outputs": []
    },
    {
      "cell_type": "code",
      "metadata": {
        "id": "LyYvt-T67PBG"
      },
      "source": [
        "# We'll use a special helper module to shape it into a flat tensor\n",
        "class Flattener(nn.Module):\n",
        "    def forward(self, x):\n",
        "        batch_size, *_ = x.shape\n",
        "        return x.view(batch_size, -1)"
      ],
      "execution_count": 6,
      "outputs": []
    },
    {
      "cell_type": "markdown",
      "metadata": {
        "id": "Pcbgi5iNQmV4"
      },
      "source": [
        "Создадим простейшую сеть с новыми слоями:  \n",
        "Convolutional - `nn.Conv2d`  \n",
        "MaxPool - `nn.MaxPool2d`"
      ]
    },
    {
      "cell_type": "code",
      "metadata": {
        "id": "w9SFVGZP7SQd"
      },
      "source": [
        "nn_model = nn.Sequential(\n",
        "            nn.Conv2d(3, 64, 3, padding=1),\n",
        "            nn.ReLU(inplace=True),\n",
        "            nn.MaxPool2d(4),\n",
        "            nn.Conv2d(64, 64, 3, padding=1),\n",
        "            nn.ReLU(inplace=True),\n",
        "            nn.MaxPool2d(4),    \n",
        "            Flattener(),\n",
        "            nn.Linear(64*2*2, 10),\n",
        "          )\n",
        "\n",
        "nn_model.type(torch.cuda.FloatTensor)\n",
        "nn_model.to(device)\n",
        "\n",
        "loss = nn.CrossEntropyLoss().type(torch.cuda.FloatTensor)\n",
        "optimizer = optim.SGD(nn_model.parameters(), lr=1e-1, weight_decay=1e-4)"
      ],
      "execution_count": 7,
      "outputs": []
    },
    {
      "cell_type": "markdown",
      "metadata": {
        "id": "695FRI9vQmV6"
      },
      "source": [
        "Восстановите функцию `compute_accuracy` из прошлого задания.  \n",
        "Единственное отличие в новом - она должна передать данные на GPU прежде чем прогонять через модель. Сделайте это так же, как это делает функция `train_model`"
      ]
    },
    {
      "cell_type": "code",
      "metadata": {
        "colab": {
          "base_uri": "https://localhost:8080/"
        },
        "id": "2ek3KVQK7hJ6",
        "outputId": "37b9d0e3-4361-47c2-9201-26504d08ac0d"
      },
      "source": [
        "def train_model(model, train_loader, val_loader, loss, optimizer, num_epochs):    \n",
        "    loss_history = []\n",
        "    train_history = []\n",
        "    val_history = []\n",
        "    for epoch in range(num_epochs):\n",
        "        model.train() # Enter train mode\n",
        "        \n",
        "        loss_accum = 0\n",
        "        correct_samples = 0\n",
        "        total_samples = 0\n",
        "        for i_step, (x, y) in enumerate(train_loader):\n",
        "          \n",
        "            x_gpu = x.to(device)\n",
        "            y_gpu = y.to(device)\n",
        "            prediction = model(x_gpu)    \n",
        "            loss_value = loss(prediction, y_gpu)\n",
        "            optimizer.zero_grad()\n",
        "            loss_value.backward()\n",
        "            optimizer.step()\n",
        "            \n",
        "            _, indices = torch.max(prediction, 1)\n",
        "            correct_samples += torch.sum(indices == y_gpu)\n",
        "            total_samples += y.shape[0]\n",
        "            \n",
        "            loss_accum += loss_value\n",
        "\n",
        "        ave_loss = loss_accum / i_step\n",
        "        train_accuracy = float(correct_samples) / total_samples\n",
        "        val_accuracy = compute_accuracy(model, val_loader)\n",
        "        \n",
        "        loss_history.append(float(ave_loss))\n",
        "        train_history.append(train_accuracy)\n",
        "        val_history.append(val_accuracy)\n",
        "        \n",
        "        print(\"Average loss: %f, Train accuracy: %f, Val accuracy: %f\" % (ave_loss, train_accuracy, val_accuracy))\n",
        "        \n",
        "    return loss_history, train_history, val_history\n",
        "        \n",
        "def compute_accuracy(model, loader):\n",
        "    \"\"\"\n",
        "    Computes accuracy on the dataset wrapped in a loader\n",
        "    \n",
        "    Returns: accuracy as a float value between 0 and 1\n",
        "    \"\"\"\n",
        "    model.eval() # Evaluation mode\n",
        "    # TODO: Copy implementation from previous assignment\n",
        "    # Don't forget to move the data to device before running it through the model!\n",
        "    \n",
        "    correct_samples = 0\n",
        "    total_samples = 0\n",
        "\n",
        "    for x, y in loader:\n",
        "        x_gpu = x.to(device)\n",
        "        y_gpu = y.to(device)\n",
        "\n",
        "        prediction = model(x_gpu)\n",
        "\n",
        "        _, indices = torch.max(prediction, 1)\n",
        "        correct_samples += torch.sum(indices == y_gpu)\n",
        "        total_samples += y_gpu.shape[0]\n",
        "    \n",
        "    return float(correct_samples) / total_samples\n",
        "\n",
        "loss_history, train_history, val_history = train_model(nn_model, train_loader, val_loader, loss, optimizer, 5)"
      ],
      "execution_count": 8,
      "outputs": [
        {
          "output_type": "stream",
          "text": [
            "Average loss: 1.353196, Train accuracy: 0.550694, Val accuracy: 0.741588\n",
            "Average loss: 0.698353, Train accuracy: 0.787121, Val accuracy: 0.798512\n",
            "Average loss: 0.598032, Train accuracy: 0.819336, Val accuracy: 0.747594\n",
            "Average loss: 0.549606, Train accuracy: 0.836092, Val accuracy: 0.824108\n",
            "Average loss: 0.517944, Train accuracy: 0.846961, Val accuracy: 0.825336\n"
          ],
          "name": "stdout"
        }
      ]
    },
    {
      "cell_type": "markdown",
      "metadata": {
        "id": "6a-3a1ZFGEw_"
      },
      "source": [
        "# Аугментация данных (Data augmentation)\n",
        "\n",
        "В работе с изображениями одним из особенно важных методов является аугментация данных - то есть, генерация дополнительных данных для тренировки на основе изначальных.   \n",
        "Таким образом, мы получаем возможность \"увеличить\" набор данных для тренировки, что ведет к лучшей работе сети.\n",
        "Важно, чтобы аугментированные данные были похожи на те, которые могут встретиться в реальной жизни, иначе польза от аугментаций уменьшается и может ухудшить работу сети.\n",
        "\n",
        "С PyTorch идут несколько таких алгоритмов, называемых `transforms`. Более подробно про них можно прочитать тут -\n",
        "https://pytorch.org/tutorials/beginner/data_loading_tutorial.html#transforms\n",
        "\n",
        "Ниже мы используем следующие алгоритмы генерации:\n",
        "- ColorJitter - случайное изменение цвета\n",
        "- RandomHorizontalFlip - горизонтальное отражение с вероятностью 50%\n",
        "- RandomVerticalFlip - вертикальное отражение с вероятностью 50%\n",
        "- RandomRotation - случайный поворот"
      ]
    },
    {
      "cell_type": "code",
      "metadata": {
        "colab": {
          "base_uri": "https://localhost:8080/"
        },
        "id": "jCWMUWmr7t5g",
        "outputId": "6af3e40b-904f-4bd3-b763-ace12ca1d89d"
      },
      "source": [
        "tfs = transforms.Compose([\n",
        "    transforms.ColorJitter(hue=.50, saturation=.50),\n",
        "    transforms.RandomHorizontalFlip(),\n",
        "    transforms.RandomVerticalFlip(),\n",
        "    transforms.RandomRotation(50, resample=PIL.Image.BILINEAR),\n",
        "    transforms.ToTensor(),\n",
        "    transforms.Normalize(mean=[0.43,0.44,0.47],\n",
        "                       std=[0.20,0.20,0.20])                           \n",
        "])\n",
        "\n",
        "# Create augmented train dataset\n",
        "data_aug_train = dset.SVHN('./', \n",
        "                       transform=tfs\n",
        "                      )\n",
        "\n",
        "train_aug_loader = torch.utils.data.DataLoader(data_aug_train, batch_size=batch_size, \n",
        "                                           sampler=train_sampler)"
      ],
      "execution_count": 9,
      "outputs": [
        {
          "output_type": "stream",
          "text": [
            "/usr/local/lib/python3.7/dist-packages/torchvision/transforms/transforms.py:1201: UserWarning: Argument resample is deprecated and will be removed since v0.10.0. Please, use interpolation instead\n",
            "  \"Argument resample is deprecated and will be removed since v0.10.0. Please, use interpolation instead\"\n"
          ],
          "name": "stderr"
        }
      ]
    },
    {
      "cell_type": "markdown",
      "metadata": {
        "id": "6U1EiBBKQmV9"
      },
      "source": [
        "Визуализируем результаты агментации (вообще, смотреть на сгенерированные данные всегда очень полезно)."
      ]
    },
    {
      "cell_type": "code",
      "metadata": {
        "colab": {
          "base_uri": "https://localhost:8080/",
          "height": 192
        },
        "id": "YlJJEro1KZ45",
        "outputId": "da3171a5-955b-4b58-e5a9-18e3416e0351"
      },
      "source": [
        "# TODO: Visualize some augmented images!\n",
        "# hint: you can create new datasets and loaders to accomplish this\n",
        "\n",
        "# Based on the visualizations, should we keep all the augmentations?\n",
        "\n",
        "tfs = transforms.Compose([\n",
        "    transforms.ColorJitter(hue=.20, saturation=.20),\n",
        "    transforms.RandomHorizontalFlip(),\n",
        "    transforms.RandomVerticalFlip(),\n",
        "    transforms.RandomRotation(10, resample=PIL.Image.BILINEAR),\n",
        "])\n",
        "\n",
        "data_aug_vis = dset.SVHN('./', \n",
        "                       transform=tfs\n",
        "                      )\n",
        "\n",
        "plt.figure(figsize=(30, 3))\n",
        "\n",
        "for i, (x, y) in enumerate(data_aug_vis):\n",
        "    if i == 10:\n",
        "        break\n",
        "    plt.subplot(1, 10, i+1)\n",
        "    plt.grid(False)\n",
        "    plt.imshow(x)\n",
        "    plt.axis('off')"
      ],
      "execution_count": 10,
      "outputs": [
        {
          "output_type": "stream",
          "text": [
            "/usr/local/lib/python3.7/dist-packages/torchvision/transforms/transforms.py:1201: UserWarning: Argument resample is deprecated and will be removed since v0.10.0. Please, use interpolation instead\n",
            "  \"Argument resample is deprecated and will be removed since v0.10.0. Please, use interpolation instead\"\n"
          ],
          "name": "stderr"
        },
        {
          "output_type": "display_data",
          "data": {
            "image/png": "[encoded data removed]",
            "text/plain": [
              "<Figure size 2160x216 with 10 Axes>"
            ]
          },
          "metadata": {
            "tags": [],
            "needs_background": "light"
          }
        }
      ]
    },
    {
      "cell_type": "markdown",
      "metadata": {
        "id": "o2LrmsYHoguB"
      },
      "source": [
        "Все ли агментации одинаково полезны на этом наборе данных? Могут ли быть среди них те, которые собьют модель с толку?\n",
        "\n",
        "Выберите из них только корректные"
      ]
    },
    {
      "cell_type": "code",
      "metadata": {
        "colab": {
          "base_uri": "https://localhost:8080/"
        },
        "id": "evro9ksXGs9u",
        "outputId": "4e2baf34-9956-46a8-bb09-8746d15e5150"
      },
      "source": [
        "# TODO: \n",
        "tfs = transforms.Compose([\n",
        "    # TODO: Add good augmentations\n",
        "    transforms.ColorJitter(hue=.20, saturation=.20),\n",
        "    transforms.RandomRotation(10, resample=PIL.Image.BILINEAR),\n",
        "    transforms.ToTensor(),\n",
        "    transforms.Normalize(mean=[0.43,0.44,0.47],\n",
        "                       std=[0.20,0.20,0.20])                           \n",
        "])\n",
        "\n",
        "# TODO create new instances of loaders with the augmentations you chose\n",
        "data_aug_vis = dset.SVHN('./', \n",
        "                       transform=tfs\n",
        "                      )\n",
        "\n",
        "train_aug_loader = torch.utils.data.DataLoader(data_aug_train, batch_size=batch_size, \n",
        "                                           sampler=train_sampler)"
      ],
      "execution_count": 11,
      "outputs": [
        {
          "output_type": "stream",
          "text": [
            "/usr/local/lib/python3.7/dist-packages/torchvision/transforms/transforms.py:1201: UserWarning: Argument resample is deprecated and will be removed since v0.10.0. Please, use interpolation instead\n",
            "  \"Argument resample is deprecated and will be removed since v0.10.0. Please, use interpolation instead\"\n"
          ],
          "name": "stderr"
        }
      ]
    },
    {
      "cell_type": "code",
      "metadata": {
        "colab": {
          "base_uri": "https://localhost:8080/"
        },
        "id": "PeO6Zw0DHqPR",
        "outputId": "03dc5ae4-8bda-4dd9-eaa1-8f58b0273841"
      },
      "source": [
        "# Finally, let's train with augmentations!\n",
        "\n",
        "# Note we shouldn't use augmentations on validation\n",
        "\n",
        "loss_history, train_history, val_history = train_model(nn_model, train_aug_loader, val_loader, loss, optimizer, 5)"
      ],
      "execution_count": 12,
      "outputs": [
        {
          "output_type": "stream",
          "text": [
            "Average loss: 2.003870, Train accuracy: 0.292717, Val accuracy: 0.469866\n",
            "Average loss: 1.731122, Train accuracy: 0.379125, Val accuracy: 0.395058\n",
            "Average loss: 1.639030, Train accuracy: 0.417432, Val accuracy: 0.504880\n",
            "Average loss: 1.575667, Train accuracy: 0.440040, Val accuracy: 0.532319\n",
            "Average loss: 1.533279, Train accuracy: 0.457649, Val accuracy: 0.528633\n"
          ],
          "name": "stdout"
        }
      ]
    },
    {
      "cell_type": "markdown",
      "metadata": {
        "id": "r0bcioK6JBDK"
      },
      "source": [
        "# LeNet\n",
        "Попробуем имплементировать классическую архитектуру сверточной нейронной сети, предложенную Яном ЛеКуном в 1998 году. В свое время она достигла впечатляющих результатов на MNIST, посмотрим как она справится с SVHN?\n",
        "Она описана в статье [\"Gradient Based Learning Applied to Document Recognition\"](http://yann.lecun.com/exdb/publis/pdf/lecun-01a.pdf), попробуйте прочитать ключевые части и имплементировать предложенную архитетуру на PyTorch.\n",
        "\n",
        "Реализовывать слои и функцию ошибки LeNet, которых нет в PyTorch, **не нужно** - просто возьмите их размеры и переведите в уже известные нам Convolutional, Pooling и Fully Connected layers.\n",
        "\n",
        "Если в статье не очень понятно, можно просто погуглить LeNet и разобраться в деталях :)"
      ]
    },
    {
      "cell_type": "code",
      "metadata": {
        "id": "ieEzZUglJAUB"
      },
      "source": [
        "# TODO: Implement LeNet-like architecture for SVHN task\n",
        "lenet_model = nn.Sequential(\n",
        "            nn.Conv2d(3, 6, 5),\n",
        "            nn.ReLU(inplace=True),\n",
        "            nn.MaxPool2d(2, stride=2),\n",
        "            nn.Conv2d(6, 16, 5),\n",
        "            nn.ReLU(inplace=True),\n",
        "            nn.MaxPool2d(2, stride=2),   \n",
        "            nn.Conv2d(16, 120, 5),\n",
        "            nn.ReLU(inplace=True),\n",
        "            Flattener(),\n",
        "            nn.Linear(120, 84),\n",
        "            nn.ReLU(inplace=True),\n",
        "            nn.Linear(84, 10)\n",
        "          )\n",
        "\n",
        "lenet_model.type(torch.cuda.FloatTensor)\n",
        "lenet_model.to(device)\n",
        "\n",
        "loss = nn.CrossEntropyLoss().type(torch.cuda.FloatTensor)\n",
        "optimizer = optim.SGD(lenet_model.parameters(), lr=1e-1, weight_decay=1e-4)"
      ],
      "execution_count": 13,
      "outputs": []
    },
    {
      "cell_type": "code",
      "metadata": {
        "colab": {
          "base_uri": "https://localhost:8080/"
        },
        "id": "WMmaPfdeKk9H",
        "outputId": "9763d75d-a1cc-4ad9-cc85-e3b9a1b35785"
      },
      "source": [
        "# Let's train it!\n",
        "loss_history, train_history, val_history = train_model(lenet_model, train_aug_loader, val_loader, loss, optimizer, 10)"
      ],
      "execution_count": 14,
      "outputs": [
        {
          "output_type": "stream",
          "text": [
            "Average loss: 2.077533, Train accuracy: 0.252739, Val accuracy: 0.346393\n",
            "Average loss: 1.498067, Train accuracy: 0.478023, Val accuracy: 0.541465\n",
            "Average loss: 1.245576, Train accuracy: 0.573900, Val accuracy: 0.599345\n",
            "Average loss: 1.126555, Train accuracy: 0.614596, Val accuracy: 0.644188\n",
            "Average loss: 1.051715, Train accuracy: 0.639218, Val accuracy: 0.670193\n",
            "Average loss: 1.003250, Train accuracy: 0.659386, Val accuracy: 0.657566\n",
            "Average loss: 0.974027, Train accuracy: 0.666451, Val accuracy: 0.663982\n",
            "Average loss: 0.946438, Train accuracy: 0.675067, Val accuracy: 0.700020\n",
            "Average loss: 0.929544, Train accuracy: 0.683309, Val accuracy: 0.681933\n",
            "Average loss: 0.914256, Train accuracy: 0.686619, Val accuracy: 0.691079\n"
          ],
          "name": "stdout"
        }
      ]
    },
    {
      "cell_type": "markdown",
      "metadata": {
        "id": "u_O9qiYySvuj"
      },
      "source": [
        "# Подбор гиперпараметров"
      ]
    },
    {
      "cell_type": "code",
      "metadata": {
        "id": "vjDeP0djXDEY"
      },
      "source": [
        "def train_model(model, train_loader, val_loader, loss, optimizer, num_epochs, step_size):   \n",
        "    scheduler = optim.lr_scheduler.StepLR(optimizer, step_size=step_size, gamma=0.5)\n",
        "    loss_history = []\n",
        "    train_history = []\n",
        "    val_history = []\n",
        "    for epoch in range(num_epochs):\n",
        "        model.train() # Enter train mode\n",
        "        scheduler.step()\n",
        "        loss_accum = 0\n",
        "        correct_samples = 0\n",
        "        total_samples = 0\n",
        "        for i_step, (x, y) in enumerate(train_loader):\n",
        "          \n",
        "            x_gpu = x.to(device)\n",
        "            y_gpu = y.to(device)\n",
        "            prediction = model(x_gpu)    \n",
        "            loss_value = loss(prediction, y_gpu)\n",
        "            optimizer.zero_grad()\n",
        "            loss_value.backward()\n",
        "            optimizer.step()\n",
        "            \n",
        "            _, indices = torch.max(prediction, 1)\n",
        "            correct_samples += torch.sum(indices == y_gpu)\n",
        "            total_samples += y.shape[0]\n",
        "            \n",
        "            loss_accum += loss_value\n",
        "\n",
        "        ave_loss = loss_accum / i_step\n",
        "        train_accuracy = float(correct_samples) / total_samples\n",
        "        val_accuracy = compute_accuracy(model, val_loader)\n",
        "        \n",
        "        loss_history.append(float(ave_loss))\n",
        "        train_history.append(train_accuracy)\n",
        "        val_history.append(val_accuracy)\n",
        "        \n",
        "        print(\"Average loss: %f, Train accuracy: %f, Val accuracy: %f\" % (ave_loss, train_accuracy, val_accuracy))\n",
        "        \n",
        "    return loss_history, train_history, val_history"
      ],
      "execution_count": 17,
      "outputs": []
    },
    {
      "cell_type": "code",
      "metadata": {
        "colab": {
          "base_uri": "https://localhost:8080/"
        },
        "id": "i6mhfdQ9K-N3",
        "outputId": "d4b3e203-114e-4ae3-c002-e0092ddba110"
      },
      "source": [
        "# The key hyperparameters we're going to tune are learning speed, annealing rate and regularization\n",
        "# We also encourage you to try different optimizers as well\n",
        "\n",
        "Hyperparams = namedtuple(\"Hyperparams\", ['learning_rate', 'anneal_epochs', 'reg'])\n",
        "RunResult = namedtuple(\"RunResult\", ['model', 'train_history', 'val_history', 'final_val_accuracy'])\n",
        "\n",
        "learning_rates = [1e0, 1e-1, 1e-2, 1e-3, 1e-4]\n",
        "anneal_coeff = 0.2\n",
        "anneal_epochs = [1, 5, 10, 15, 20, 50]\n",
        "reg = [1e-3, 1e-4, 1e-5, 1e-7]\n",
        "\n",
        "batch_size = 64\n",
        "epoch_num = 10\n",
        "\n",
        "# Record all the runs here\n",
        "# Key should be Hyperparams and values should be RunResult\n",
        "run_record = {} \n",
        "\n",
        "# Use grid search or random search and record all runs in run_record dictionnary \n",
        "# Important: perform search in logarithmic space!\n",
        "\n",
        "# TODO: Your code here!\n",
        "\n",
        "import random\n",
        "params_grid = [learning_rates, anneal_epochs, reg]\n",
        "\n",
        "n_results = 10\n",
        "for i in range(n_results):\n",
        "    params = [random.sample(param, 1)[0] for param in params_grid]\n",
        "    print(f\"lr={params[0]}, anneal_epochs={params[1]}, reg={params[2]}\")\n",
        "    \n",
        "    optimizer = optim.SGD(lenet_model.parameters(), lr=params[0], weight_decay=params[2])\n",
        "    _, train_history, val_history = train_model(lenet_model, train_aug_loader, val_loader, loss, optimizer, epoch_num, params[1])\n",
        "    run_record[Hyperparams(*params)] = RunResult(lenet_model, train_history, val_history, val_history[-1])"
      ],
      "execution_count": 18,
      "outputs": [
        {
          "output_type": "stream",
          "text": [
            "lr=1.0, anneal_epochs=50, reg=1e-07\n"
          ],
          "name": "stdout"
        },
        {
          "output_type": "stream",
          "text": [
            "/usr/local/lib/python3.7/dist-packages/torch/optim/lr_scheduler.py:134: UserWarning: Detected call of `lr_scheduler.step()` before `optimizer.step()`. In PyTorch 1.1.0 and later, you should call them in the opposite order: `optimizer.step()` before `lr_scheduler.step()`.  Failure to do this will result in PyTorch skipping the first value of the learning rate schedule. See more details at https://pytorch.org/docs/stable/optim.html#how-to-adjust-learning-rate\n",
            "  \"https://pytorch.org/docs/stable/optim.html#how-to-adjust-learning-rate\", UserWarning)\n"
          ],
          "name": "stderr"
        },
        {
          "output_type": "stream",
          "text": [
            "Average loss: nan, Train accuracy: 0.068798, Val accuracy: 0.067777\n",
            "Average loss: nan, Train accuracy: 0.067485, Val accuracy: 0.067777\n",
            "Average loss: nan, Train accuracy: 0.067485, Val accuracy: 0.067777\n",
            "Average loss: nan, Train accuracy: 0.067485, Val accuracy: 0.067777\n",
            "Average loss: nan, Train accuracy: 0.067485, Val accuracy: 0.067777\n",
            "Average loss: nan, Train accuracy: 0.067485, Val accuracy: 0.067777\n",
            "Average loss: nan, Train accuracy: 0.067485, Val accuracy: 0.067777\n",
            "Average loss: nan, Train accuracy: 0.067485, Val accuracy: 0.067777\n",
            "Average loss: nan, Train accuracy: 0.067485, Val accuracy: 0.067777\n",
            "Average loss: nan, Train accuracy: 0.067485, Val accuracy: 0.067777\n",
            "lr=1.0, anneal_epochs=10, reg=0.001\n",
            "Average loss: nan, Train accuracy: 0.067485, Val accuracy: 0.067777\n",
            "Average loss: nan, Train accuracy: 0.067485, Val accuracy: 0.067777\n",
            "Average loss: nan, Train accuracy: 0.067485, Val accuracy: 0.067777\n",
            "Average loss: nan, Train accuracy: 0.067485, Val accuracy: 0.067777\n",
            "Average loss: nan, Train accuracy: 0.067485, Val accuracy: 0.067777\n",
            "Average loss: nan, Train accuracy: 0.067485, Val accuracy: 0.067777\n",
            "Average loss: nan, Train accuracy: 0.067485, Val accuracy: 0.067777\n",
            "Average loss: nan, Train accuracy: 0.067485, Val accuracy: 0.067777\n",
            "Average loss: nan, Train accuracy: 0.067485, Val accuracy: 0.067777\n",
            "Average loss: nan, Train accuracy: 0.067485, Val accuracy: 0.067777\n",
            "lr=0.0001, anneal_epochs=50, reg=0.001\n",
            "Average loss: nan, Train accuracy: 0.067485, Val accuracy: 0.067777\n",
            "Average loss: nan, Train accuracy: 0.067485, Val accuracy: 0.067777\n",
            "Average loss: nan, Train accuracy: 0.067485, Val accuracy: 0.067777\n",
            "Average loss: nan, Train accuracy: 0.067485, Val accuracy: 0.067777\n",
            "Average loss: nan, Train accuracy: 0.067485, Val accuracy: 0.067777\n",
            "Average loss: nan, Train accuracy: 0.067485, Val accuracy: 0.067777\n",
            "Average loss: nan, Train accuracy: 0.067485, Val accuracy: 0.067777\n",
            "Average loss: nan, Train accuracy: 0.067485, Val accuracy: 0.067777\n",
            "Average loss: nan, Train accuracy: 0.067485, Val accuracy: 0.067777\n",
            "Average loss: nan, Train accuracy: 0.067485, Val accuracy: 0.067777\n",
            "lr=1.0, anneal_epochs=15, reg=0.0001\n",
            "Average loss: nan, Train accuracy: 0.067485, Val accuracy: 0.067777\n",
            "Average loss: nan, Train accuracy: 0.067485, Val accuracy: 0.067777\n",
            "Average loss: nan, Train accuracy: 0.067485, Val accuracy: 0.067777\n",
            "Average loss: nan, Train accuracy: 0.067485, Val accuracy: 0.067777\n",
            "Average loss: nan, Train accuracy: 0.067485, Val accuracy: 0.067777\n",
            "Average loss: nan, Train accuracy: 0.067485, Val accuracy: 0.067777\n",
            "Average loss: nan, Train accuracy: 0.067485, Val accuracy: 0.067777\n",
            "Average loss: nan, Train accuracy: 0.067485, Val accuracy: 0.067777\n",
            "Average loss: nan, Train accuracy: 0.067485, Val accuracy: 0.067777\n",
            "Average loss: nan, Train accuracy: 0.067485, Val accuracy: 0.067777\n",
            "lr=0.0001, anneal_epochs=1, reg=0.0001\n",
            "Average loss: nan, Train accuracy: 0.067485, Val accuracy: 0.067777\n",
            "Average loss: nan, Train accuracy: 0.067485, Val accuracy: 0.067777\n",
            "Average loss: nan, Train accuracy: 0.067485, Val accuracy: 0.067777\n",
            "Average loss: nan, Train accuracy: 0.067485, Val accuracy: 0.067777\n",
            "Average loss: nan, Train accuracy: 0.067485, Val accuracy: 0.067777\n",
            "Average loss: nan, Train accuracy: 0.067485, Val accuracy: 0.067777\n",
            "Average loss: nan, Train accuracy: 0.067485, Val accuracy: 0.067777\n",
            "Average loss: nan, Train accuracy: 0.067485, Val accuracy: 0.067777\n",
            "Average loss: nan, Train accuracy: 0.067485, Val accuracy: 0.067777\n",
            "Average loss: nan, Train accuracy: 0.067485, Val accuracy: 0.067777\n",
            "lr=0.001, anneal_epochs=15, reg=0.0001\n",
            "Average loss: nan, Train accuracy: 0.067485, Val accuracy: 0.067777\n",
            "Average loss: nan, Train accuracy: 0.067485, Val accuracy: 0.067777\n",
            "Average loss: nan, Train accuracy: 0.067485, Val accuracy: 0.067777\n",
            "Average loss: nan, Train accuracy: 0.067485, Val accuracy: 0.067777\n",
            "Average loss: nan, Train accuracy: 0.067485, Val accuracy: 0.067777\n",
            "Average loss: nan, Train accuracy: 0.067485, Val accuracy: 0.067777\n",
            "Average loss: nan, Train accuracy: 0.067485, Val accuracy: 0.067777\n",
            "Average loss: nan, Train accuracy: 0.067485, Val accuracy: 0.067777\n",
            "Average loss: nan, Train accuracy: 0.067485, Val accuracy: 0.067777\n",
            "Average loss: nan, Train accuracy: 0.067485, Val accuracy: 0.067777\n",
            "lr=0.1, anneal_epochs=1, reg=1e-05\n",
            "Average loss: nan, Train accuracy: 0.067485, Val accuracy: 0.067777\n",
            "Average loss: nan, Train accuracy: 0.067485, Val accuracy: 0.067777\n",
            "Average loss: nan, Train accuracy: 0.067485, Val accuracy: 0.067777\n",
            "Average loss: nan, Train accuracy: 0.067485, Val accuracy: 0.067777\n",
            "Average loss: nan, Train accuracy: 0.067485, Val accuracy: 0.067777\n",
            "Average loss: nan, Train accuracy: 0.067485, Val accuracy: 0.067777\n",
            "Average loss: nan, Train accuracy: 0.067485, Val accuracy: 0.067777\n",
            "Average loss: nan, Train accuracy: 0.067485, Val accuracy: 0.067777\n",
            "Average loss: nan, Train accuracy: 0.067485, Val accuracy: 0.067777\n",
            "Average loss: nan, Train accuracy: 0.067485, Val accuracy: 0.067777\n",
            "lr=0.001, anneal_epochs=10, reg=0.0001\n",
            "Average loss: nan, Train accuracy: 0.067485, Val accuracy: 0.067777\n",
            "Average loss: nan, Train accuracy: 0.067485, Val accuracy: 0.067777\n",
            "Average loss: nan, Train accuracy: 0.067485, Val accuracy: 0.067777\n",
            "Average loss: nan, Train accuracy: 0.067485, Val accuracy: 0.067777\n",
            "Average loss: nan, Train accuracy: 0.067485, Val accuracy: 0.067777\n",
            "Average loss: nan, Train accuracy: 0.067485, Val accuracy: 0.067777\n",
            "Average loss: nan, Train accuracy: 0.067485, Val accuracy: 0.067777\n",
            "Average loss: nan, Train accuracy: 0.067485, Val accuracy: 0.067777\n",
            "Average loss: nan, Train accuracy: 0.067485, Val accuracy: 0.067777\n",
            "Average loss: nan, Train accuracy: 0.067485, Val accuracy: 0.067777\n",
            "lr=1.0, anneal_epochs=50, reg=0.0001\n",
            "Average loss: nan, Train accuracy: 0.067485, Val accuracy: 0.067777\n",
            "Average loss: nan, Train accuracy: 0.067485, Val accuracy: 0.067777\n",
            "Average loss: nan, Train accuracy: 0.067485, Val accuracy: 0.067777\n",
            "Average loss: nan, Train accuracy: 0.067485, Val accuracy: 0.067777\n",
            "Average loss: nan, Train accuracy: 0.067485, Val accuracy: 0.067777\n",
            "Average loss: nan, Train accuracy: 0.067485, Val accuracy: 0.067777\n",
            "Average loss: nan, Train accuracy: 0.067485, Val accuracy: 0.067777\n",
            "Average loss: nan, Train accuracy: 0.067485, Val accuracy: 0.067777\n",
            "Average loss: nan, Train accuracy: 0.067485, Val accuracy: 0.067777\n",
            "Average loss: nan, Train accuracy: 0.067485, Val accuracy: 0.067777\n",
            "lr=1.0, anneal_epochs=5, reg=1e-05\n",
            "Average loss: nan, Train accuracy: 0.067485, Val accuracy: 0.067777\n",
            "Average loss: nan, Train accuracy: 0.067485, Val accuracy: 0.067777\n",
            "Average loss: nan, Train accuracy: 0.067485, Val accuracy: 0.067777\n",
            "Average loss: nan, Train accuracy: 0.067485, Val accuracy: 0.067777\n",
            "Average loss: nan, Train accuracy: 0.067485, Val accuracy: 0.067777\n",
            "Average loss: nan, Train accuracy: 0.067485, Val accuracy: 0.067777\n",
            "Average loss: nan, Train accuracy: 0.067485, Val accuracy: 0.067777\n",
            "Average loss: nan, Train accuracy: 0.067485, Val accuracy: 0.067777\n",
            "Average loss: nan, Train accuracy: 0.067485, Val accuracy: 0.067777\n",
            "Average loss: nan, Train accuracy: 0.067485, Val accuracy: 0.067777\n"
          ],
          "name": "stdout"
        }
      ]
    },
    {
      "cell_type": "code",
      "metadata": {
        "colab": {
          "base_uri": "https://localhost:8080/"
        },
        "id": "Y6xExdw8JB1l",
        "outputId": "f9ab46b8-677c-414f-bba9-5cd8e727ddd1"
      },
      "source": [
        "best_val_accuracy = None\n",
        "best_hyperparams = None\n",
        "best_run = None\n",
        "\n",
        "for hyperparams, run_result in run_record.items():\n",
        "    if best_val_accuracy is None or best_val_accuracy < run_result.final_val_accuracy:\n",
        "        best_val_accuracy = run_result.final_val_accuracy\n",
        "        best_hyperparams = hyperparams\n",
        "        best_run = run_result\n",
        "        \n",
        "print(\"Best validation accuracy: %4.2f, best hyperparams: %s\" % (best_val_accuracy, best_hyperparams))\n",
        "        "
      ],
      "execution_count": 19,
      "outputs": [
        {
          "output_type": "stream",
          "text": [
            "Best validation accuracy: 0.07, best hyperparams: Hyperparams(learning_rate=1.0, anneal_epochs=50, reg=1e-07)\n"
          ],
          "name": "stdout"
        }
      ]
    },
    {
      "cell_type": "markdown",
      "metadata": {
        "id": "LOmsR0uVgtgf"
      },
      "source": [
        "# Свободное упражнение - догоним и перегоним LeNet!\n",
        "\n",
        "Попробуйте найти архитектуру и настройки тренировки, чтобы выступить лучше наших бейзлайнов.\n",
        "\n",
        "Что можно и нужно попробовать:\n",
        "- BatchNormalization (для convolution layers он в PyTorch называется [batchnorm2d](https://pytorch.org/docs/stable/nn.html#batchnorm2d))\n",
        "- Изменить количество слоев и их толщину\n",
        "- Изменять количество эпох тренировки\n",
        "- Попробовать и другие агментации"
      ]
    },
    {
      "cell_type": "code",
      "metadata": {
        "colab": {
          "base_uri": "https://localhost:8080/"
        },
        "id": "tSVhD747icoc",
        "outputId": "33ad4259-248d-4730-9309-d810a1b4d5ea"
      },
      "source": [
        "best_model = nn.Sequential(\n",
        "            nn.Conv2d(3, 32, 3, padding=1),\n",
        "            nn.BatchNorm2d(32),\n",
        "            nn.ReLU(inplace=True),\n",
        "            nn.Dropout(0.25),\n",
        "            nn.Conv2d(32, 64, 3, stride=2, padding=1),\n",
        "            nn.BatchNorm2d(64),\n",
        "            nn.ReLU(inplace=True),\n",
        "            nn.Dropout(0.25),\n",
        "            nn.Conv2d(64, 128, 5, stride=2),\n",
        "            nn.BatchNorm2d(128),\n",
        "            nn.ReLU(inplace=True),\n",
        "            nn.Dropout(0.25),\n",
        "            nn.Conv2d(128, 128, 5, stride=2, padding=2),\n",
        "            nn.BatchNorm2d(128),\n",
        "            nn.ReLU(inplace=True),\n",
        "            nn.Dropout(0.25),\n",
        "            nn.Conv2d(128, 128, 5, stride=2, padding=2),\n",
        "            nn.BatchNorm2d(128),\n",
        "            nn.ReLU(inplace=True),\n",
        "            Flattener(),\n",
        "            nn.Linear(512, 64),\n",
        "            nn.BatchNorm1d(64),\n",
        "            nn.ReLU(inplace=True),\n",
        "            nn.Dropout(0.25),\n",
        "            nn.Linear(64, 10)\n",
        "          )\n",
        "\n",
        "for module in best_model.parameters():\n",
        "    if isinstance(module, (nn.Conv2d, nn.Linear)):\n",
        "        nn.init.xavier_uniform_(module.weight, gain=nn.init.calculate_gain('relu'))\n",
        "\n",
        "    \n",
        "best_model.type(torch.cuda.FloatTensor)\n",
        "best_model.to(device)\n",
        "\n",
        "loss = nn.CrossEntropyLoss().type(torch.cuda.FloatTensor)\n",
        "optimizer = optim.Adam(best_model.parameters(), lr=1e-3, weight_decay=1e-6)\n",
        "loss_history, train_history, val_history = train_model(best_model, train_aug_loader, val_loader, loss, optimizer, 20, 5)"
      ],
      "execution_count": 20,
      "outputs": [
        {
          "output_type": "stream",
          "text": [
            "/usr/local/lib/python3.7/dist-packages/torch/optim/lr_scheduler.py:134: UserWarning: Detected call of `lr_scheduler.step()` before `optimizer.step()`. In PyTorch 1.1.0 and later, you should call them in the opposite order: `optimizer.step()` before `lr_scheduler.step()`.  Failure to do this will result in PyTorch skipping the first value of the learning rate schedule. See more details at https://pytorch.org/docs/stable/optim.html#how-to-adjust-learning-rate\n",
            "  \"https://pytorch.org/docs/stable/optim.html#how-to-adjust-learning-rate\", UserWarning)\n"
          ],
          "name": "stderr"
        },
        {
          "output_type": "stream",
          "text": [
            "Average loss: 1.909260, Train accuracy: 0.312715, Val accuracy: 0.575114\n",
            "Average loss: 1.253347, Train accuracy: 0.563987, Val accuracy: 0.687393\n",
            "Average loss: 1.050102, Train accuracy: 0.638621, Val accuracy: 0.721657\n",
            "Average loss: 0.952421, Train accuracy: 0.671296, Val accuracy: 0.756399\n",
            "Average loss: 0.849643, Train accuracy: 0.708938, Val accuracy: 0.770801\n",
            "Average loss: 0.812130, Train accuracy: 0.719193, Val accuracy: 0.779537\n",
            "Average loss: 0.791626, Train accuracy: 0.725728, Val accuracy: 0.778377\n",
            "Average loss: 0.769535, Train accuracy: 0.735266, Val accuracy: 0.787114\n",
            "Average loss: 0.758220, Train accuracy: 0.737399, Val accuracy: 0.798649\n",
            "Average loss: 0.717046, Train accuracy: 0.751851, Val accuracy: 0.795304\n",
            "Average loss: 0.702929, Train accuracy: 0.753967, Val accuracy: 0.798717\n",
            "Average loss: 0.698965, Train accuracy: 0.758574, Val accuracy: 0.808750\n",
            "Average loss: 0.686483, Train accuracy: 0.761765, Val accuracy: 0.809160\n",
            "Average loss: 0.680249, Train accuracy: 0.763540, Val accuracy: 0.808204\n",
            "Average loss: 0.668005, Train accuracy: 0.769290, Val accuracy: 0.815780\n",
            "Average loss: 0.656684, Train accuracy: 0.771320, Val accuracy: 0.812231\n",
            "Average loss: 0.652501, Train accuracy: 0.773044, Val accuracy: 0.823289\n",
            "Average loss: 0.650054, Train accuracy: 0.773658, Val accuracy: 0.820217\n",
            "Average loss: 0.640405, Train accuracy: 0.777378, Val accuracy: 0.818374\n",
            "Average loss: 0.638075, Train accuracy: 0.777617, Val accuracy: 0.818852\n"
          ],
          "name": "stdout"
        }
      ]
    },
    {
      "cell_type": "markdown",
      "metadata": {
        "id": "ubeKgBcnhx7N"
      },
      "source": [
        "# Финальный аккорд - проверим лучшую модель на test set\n",
        "\n",
        "В качестве разнообразия - напишите код для прогона модели на test set вы.\n",
        "\n",
        "В результате вы должны натренировать модель, которая покажет более **90%** точности на test set.  \n",
        "Как водится, лучший результат в группе получит дополнительные баллы!"
      ]
    },
    {
      "cell_type": "code",
      "metadata": {
        "colab": {
          "base_uri": "https://localhost:8080/"
        },
        "id": "EIqM1kdeh-hd",
        "outputId": "0ea94b7a-228e-4266-c2e1-e78efad8d656"
      },
      "source": [
        "# TODO Write the code to compute accuracy on test set\n",
        "test_loader = torch.utils.data.DataLoader(data_test, batch_size=batch_size)\n",
        "final_test_accuracy = compute_accuracy(best_model, test_loader)\n",
        "print(\"Final test accuracy - \", final_test_accuracy)"
      ],
      "execution_count": 21,
      "outputs": [
        {
          "output_type": "stream",
          "text": [
            "Final test accuracy -  0.821719422249539\n"
          ],
          "name": "stdout"
        }
      ]
    },
    {
      "cell_type": "code",
      "metadata": {
        "id": "BfH6qip6kVX_"
      },
      "source": [
        ""
      ],
      "execution_count": null,
      "outputs": []
    }
  ]
}