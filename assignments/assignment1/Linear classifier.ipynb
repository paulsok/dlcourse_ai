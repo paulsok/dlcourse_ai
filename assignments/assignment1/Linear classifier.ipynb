{
 "cells": [
  {
   "cell_type": "markdown",
   "metadata": {},
   "source": [
    "# Задание 1.2 - Линейный классификатор (Linear classifier)\n",
    "\n",
    "В этом задании мы реализуем другую модель машинного обучения - линейный классификатор. Линейный классификатор подбирает для каждого класса веса, на которые нужно умножить значение каждого признака и потом сложить вместе.\n",
    "Тот класс, у которого эта сумма больше, и является предсказанием модели.\n",
    "\n",
    "В этом задании вы:\n",
    "- потренируетесь считать градиенты различных многомерных функций\n",
    "- реализуете подсчет градиентов через линейную модель и функцию потерь softmax\n",
    "- реализуете процесс тренировки линейного классификатора\n",
    "- подберете параметры тренировки на практике\n",
    "\n",
    "На всякий случай, еще раз ссылка на туториал по numpy:  \n",
    "http://cs231n.github.io/python-numpy-tutorial/"
   ]
  },
  {
   "cell_type": "code",
   "execution_count": 9,
   "metadata": {},
   "outputs": [
    {
     "name": "stdout",
     "output_type": "stream",
     "text": [
      "The autoreload extension is already loaded. To reload it, use:\n",
      "  %reload_ext autoreload\n"
     ]
    }
   ],
   "source": [
    "import numpy as np\n",
    "import matplotlib.pyplot as plt\n",
    "\n",
    "%matplotlib inline\n",
    "\n",
    "%load_ext autoreload\n",
    "%autoreload 2"
   ]
  },
  {
   "cell_type": "code",
   "execution_count": 10,
   "metadata": {},
   "outputs": [],
   "source": [
    "from dataset import load_svhn, random_split_train_val\n",
    "from gradient_check import check_gradient\n",
    "from metrics import multiclass_accuracy \n",
    "import linear_classifer"
   ]
  },
  {
   "cell_type": "markdown",
   "metadata": {},
   "source": [
    "# Как всегда, первым делом загружаем данные\n",
    "\n",
    "Мы будем использовать все тот же SVHN."
   ]
  },
  {
   "cell_type": "code",
   "execution_count": 11,
   "metadata": {},
   "outputs": [],
   "source": [
    "def prepare_for_linear_classifier(train_X, test_X):\n",
    "    train_flat = train_X.reshape(train_X.shape[0], -1).astype(np.float) / 255.0\n",
    "    test_flat = test_X.reshape(test_X.shape[0], -1).astype(np.float) / 255.0\n",
    "    \n",
    "    # Subtract mean\n",
    "    mean_image = np.mean(train_flat, axis = 0)\n",
    "    train_flat -= mean_image\n",
    "    test_flat -= mean_image\n",
    "    \n",
    "    # Add another channel with ones as a bias term\n",
    "    train_flat_with_ones = np.hstack([train_flat, np.ones((train_X.shape[0], 1))])\n",
    "    test_flat_with_ones = np.hstack([test_flat, np.ones((test_X.shape[0], 1))])    \n",
    "    return train_flat_with_ones, test_flat_with_ones\n",
    "    \n",
    "train_X, train_y, test_X, test_y = load_svhn(\"data\", max_train=10000, max_test=1000)    \n",
    "train_X, test_X = prepare_for_linear_classifier(train_X, test_X)\n",
    "# Split train into train and val\n",
    "train_X, train_y, val_X, val_y = random_split_train_val(train_X, train_y, num_val = 1000)"
   ]
  },
  {
   "cell_type": "markdown",
   "metadata": {},
   "source": [
    "# Играемся с градиентами!\n",
    "\n",
    "В этом курсе мы будем писать много функций, которые вычисляют градиенты аналитическим методом.\n",
    "\n",
    "Все функции, в которых мы будем вычислять градиенты, будут написаны по одной и той же схеме.  \n",
    "Они будут получать на вход точку, где нужно вычислить значение и градиент функции, а на выходе будут выдавать кортеж (tuple) из двух значений - собственно значения функции в этой точке (всегда одно число) и аналитического значения градиента в той же точке (той же размерности, что и вход).\n",
    "```\n",
    "def f(x):\n",
    "    \"\"\"\n",
    "    Computes function and analytic gradient at x\n",
    "    \n",
    "    x: np array of float, input to the function\n",
    "    \n",
    "    Returns:\n",
    "    value: float, value of the function \n",
    "    grad: np array of float, same shape as x\n",
    "    \"\"\"\n",
    "    ...\n",
    "    \n",
    "    return value, grad\n",
    "```\n",
    "\n",
    "Необходимым инструментом во время реализации кода, вычисляющего градиенты, является функция его проверки. Эта функция вычисляет градиент численным методом и сверяет результат с градиентом, вычисленным аналитическим методом.\n",
    "\n",
    "Мы начнем с того, чтобы реализовать вычисление численного градиента (numeric gradient) в функции `check_gradient` в `gradient_check.py`. Эта функция будет принимать на вход функции формата, заданного выше, использовать значение `value` для вычисления численного градиента и сравнит его с аналитическим - они должны сходиться.\n",
    "\n",
    "Напишите часть функции, которая вычисляет градиент с помощью численной производной для каждой координаты. Для вычисления производной используйте так называемую two-point formula (https://en.wikipedia.org/wiki/Numerical_differentiation):\n",
    "\n",
    "![image](https://wikimedia.org/api/rest_v1/media/math/render/svg/22fc2c0a66c63560a349604f8b6b39221566236d)\n",
    "\n",
    "Все функции приведенные в следующей клетке должны проходить gradient check."
   ]
  },
  {
   "cell_type": "code",
   "execution_count": 12,
   "metadata": {
    "scrolled": true
   },
   "outputs": [
    {
     "name": "stdout",
     "output_type": "stream",
     "text": [
      "Gradient check passed!\n",
      "Gradient check passed!\n",
      "Gradient check passed!\n"
     ]
    },
    {
     "data": {
      "text/plain": [
       "True"
      ]
     },
     "execution_count": 12,
     "metadata": {},
     "output_type": "execute_result"
    }
   ],
   "source": [
    "# TODO: Implement check_gradient function in gradient_check.py\n",
    "# All the functions below should pass the gradient check\n",
    "\n",
    "def square(x):\n",
    "    return float(x*x), 2*x\n",
    "\n",
    "check_gradient(square, np.array([3.0]))\n",
    "\n",
    "def array_sum(x):\n",
    "    assert x.shape == (2,), x.shape\n",
    "    return np.sum(x), np.ones_like(x)\n",
    "\n",
    "check_gradient(array_sum, np.array([3.0, 2.0]))\n",
    "\n",
    "def array_2d_sum(x):\n",
    "    assert x.shape == (2,2)\n",
    "    return np.sum(x), np.ones_like(x)\n",
    "\n",
    "check_gradient(array_2d_sum, np.array([[3.0, 2.0], [1.0, 0.0]]))"
   ]
  },
  {
   "cell_type": "markdown",
   "metadata": {},
   "source": [
    "## Начинаем писать свои функции, считающие аналитический градиент\n",
    "\n",
    "Теперь реализуем функцию softmax, которая получает на вход оценки для каждого класса и преобразует их в вероятности от 0 до 1:\n",
    "![image](https://wikimedia.org/api/rest_v1/media/math/render/svg/e348290cf48ddbb6e9a6ef4e39363568b67c09d3)\n",
    "\n",
    "**Важно:** Практический аспект вычисления этой функции заключается в том, что в ней учавствует вычисление экспоненты от потенциально очень больших чисел - это может привести к очень большим значениям в числителе и знаменателе за пределами диапазона float.\n",
    "\n",
    "К счастью, у этой проблемы есть простое решение -- перед вычислением softmax вычесть из всех оценок максимальное значение среди всех оценок:\n",
    "```\n",
    "predictions -= np.max(predictions)\n",
    "```\n",
    "(подробнее здесь - http://cs231n.github.io/linear-classify/#softmax, секция `Practical issues: Numeric stability`)"
   ]
  },
  {
   "cell_type": "code",
   "execution_count": 13,
   "metadata": {},
   "outputs": [],
   "source": [
    "# TODO Implement softmax and cross-entropy for single sample\n",
    "probs = linear_classifer.softmax(np.array([-10, 0, 10]))\n",
    "\n",
    "# Make sure it works for big numbers too!\n",
    "probs = linear_classifer.softmax(np.array([1000, 0, 0]))\n",
    "assert np.isclose(probs[0], 1.0)"
   ]
  },
  {
   "cell_type": "markdown",
   "metadata": {},
   "source": [
    "Кроме этого, мы реализуем cross-entropy loss, которую мы будем использовать как функцию ошибки (error function).\n",
    "В общем виде cross-entropy определена следующим образом:\n",
    "![image](https://wikimedia.org/api/rest_v1/media/math/render/svg/0cb6da032ab424eefdca0884cd4113fe578f4293)\n",
    "\n",
    "где x - все классы, p(x) - истинная вероятность принадлежности сэмпла классу x, а q(x) - вероятность принадлежности классу x, предсказанная моделью.  \n",
    "В нашем случае сэмпл принадлежит только одному классу, индекс которого передается функции. Для него p(x) равна 1, а для остальных классов - 0. \n",
    "\n",
    "Это позволяет реализовать функцию проще!"
   ]
  },
  {
   "cell_type": "code",
   "execution_count": 14,
   "metadata": {},
   "outputs": [
    {
     "data": {
      "text/plain": [
       "5.006760443547122"
      ]
     },
     "execution_count": 14,
     "metadata": {},
     "output_type": "execute_result"
    }
   ],
   "source": [
    "probs = linear_classifer.softmax(np.array([-5, 0, 5]))\n",
    "linear_classifer.cross_entropy_loss(probs, 1)"
   ]
  },
  {
   "cell_type": "markdown",
   "metadata": {},
   "source": [
    "После того как мы реализовали сами функции, мы можем реализовать градиент.\n",
    "\n",
    "Оказывается, что вычисление градиента становится гораздо проще, если объединить эти функции в одну, которая сначала вычисляет вероятности через softmax, а потом использует их для вычисления функции ошибки через cross-entropy loss.\n",
    "\n",
    "Эта функция `softmax_with_cross_entropy` будет возвращает и значение ошибки, и градиент по входным параметрам. Мы проверим корректность реализации с помощью `check_gradient`."
   ]
  },
  {
   "cell_type": "code",
   "execution_count": 15,
   "metadata": {},
   "outputs": [
    {
     "name": "stdout",
     "output_type": "stream",
     "text": [
      "Gradient check passed!\n"
     ]
    },
    {
     "data": {
      "text/plain": [
       "True"
      ]
     },
     "execution_count": 15,
     "metadata": {},
     "output_type": "execute_result"
    }
   ],
   "source": [
    "# TODO Implement combined function or softmax and cross entropy and produces gradient\n",
    "loss, grad = linear_classifer.softmax_with_cross_entropy(np.array([1, 0, 0]), 1)\n",
    "check_gradient(lambda x: linear_classifer.softmax_with_cross_entropy(x, 1), np.array([1, 0, 0], np.float))"
   ]
  },
  {
   "cell_type": "markdown",
   "metadata": {},
   "source": [
    "В качестве метода тренировки мы будем использовать стохастический градиентный спуск (stochastic gradient descent или SGD), который работает с батчами сэмплов. \n",
    "\n",
    "Поэтому все наши фукнции будут получать не один пример, а батч, то есть входом будет не вектор из `num_classes` оценок, а матрица размерности `batch_size, num_classes`. Индекс примера в батче всегда будет первым измерением.\n",
    "\n",
    "Следующий шаг - переписать наши функции так, чтобы они поддерживали батчи.\n",
    "\n",
    "Финальное значение функции ошибки должно остаться числом, и оно равно среднему значению ошибки среди всех примеров в батче."
   ]
  },
  {
   "cell_type": "code",
   "execution_count": 16,
   "metadata": {},
   "outputs": [
    {
     "name": "stdout",
     "output_type": "stream",
     "text": [
      "Gradient check passed!\n",
      "Gradient check passed!\n"
     ]
    }
   ],
   "source": [
    "# TODO Extend combined function so it can receive a 2d array with batch of samples\n",
    "np.random.seed(42)\n",
    "# Test batch_size = 1\n",
    "num_classes = 4\n",
    "batch_size = 1\n",
    "predictions = np.random.randint(-1, 3, size=(batch_size, num_classes)).astype(np.float)\n",
    "target_index = np.random.randint(0, num_classes, size=(batch_size, 1)).astype(np.int)\n",
    "check_gradient(lambda x: linear_classifer.softmax_with_cross_entropy(x, target_index), predictions)\n",
    "\n",
    "# Test batch_size = 3\n",
    "num_classes = 4\n",
    "batch_size = 3\n",
    "predictions = np.random.randint(-1, 3, size=(batch_size, num_classes)).astype(np.float)\n",
    "target_index = np.random.randint(0, num_classes, size=(batch_size, 1)).astype(np.int)\n",
    "check_gradient(lambda x: linear_classifer.softmax_with_cross_entropy(x, target_index), predictions)\n",
    "\n",
    "# Make sure maximum subtraction for numberic stability is done separately for every sample in the batch\n",
    "probs = linear_classifer.softmax(np.array([[20,0,0], [1000, 0, 0]]))\n",
    "assert np.all(np.isclose(probs[:, 0], 1.0))"
   ]
  },
  {
   "cell_type": "markdown",
   "metadata": {},
   "source": [
    "### Наконец, реализуем сам линейный классификатор!\n",
    "\n",
    "softmax и cross-entropy получают на вход оценки, которые выдает линейный классификатор.\n",
    "\n",
    "Он делает это очень просто: для каждого класса есть набор весов, на которые надо умножить пиксели картинки и сложить. Получившееся число и является оценкой класса, идущей на вход softmax.\n",
    "\n",
    "Таким образом, линейный классификатор можно представить как умножение вектора с пикселями на матрицу W размера `num_features, num_classes`. Такой подход легко расширяется на случай батча векторов с пикселями X размера `batch_size, num_features`:\n",
    "\n",
    "`predictions = X * W`, где `*` - матричное умножение.\n",
    "\n",
    "Реализуйте функцию подсчета линейного классификатора и градиентов по весам `linear_softmax` в файле `linear_classifer.py`"
   ]
  },
  {
   "cell_type": "code",
   "execution_count": 17,
   "metadata": {},
   "outputs": [
    {
     "name": "stdout",
     "output_type": "stream",
     "text": [
      "Gradient check passed!\n"
     ]
    },
    {
     "data": {
      "text/plain": [
       "True"
      ]
     },
     "execution_count": 17,
     "metadata": {},
     "output_type": "execute_result"
    }
   ],
   "source": [
    "# TODO Implement linear_softmax function that uses softmax with cross-entropy for linear classifier\n",
    "batch_size = 2\n",
    "num_classes = 2\n",
    "num_features = 3\n",
    "np.random.seed(42)\n",
    "W = np.random.randint(-1, 3, size=(num_features, num_classes)).astype(np.float)\n",
    "X = np.random.randint(-1, 3, size=(batch_size, num_features)).astype(np.float)\n",
    "target_index = np.ones(batch_size, dtype=np.int)\n",
    "\n",
    "loss, dW = linear_classifer.linear_softmax(X, W, target_index)\n",
    "check_gradient(lambda w: linear_classifer.linear_softmax(X, w, target_index), W)"
   ]
  },
  {
   "cell_type": "markdown",
   "metadata": {},
   "source": [
    "### И теперь регуляризация\n",
    "\n",
    "Мы будем использовать L2 regularization для весов как часть общей функции ошибки.\n",
    "\n",
    "Напомним, L2 regularization определяется как\n",
    "\n",
    "l2_reg_loss = regularization_strength * sum<sub>ij</sub> W[i, j]<sup>2</sup>\n",
    "\n",
    "Реализуйте функцию для его вычисления и вычисления соотвествующих градиентов."
   ]
  },
  {
   "cell_type": "code",
   "execution_count": 18,
   "metadata": {},
   "outputs": [
    {
     "name": "stdout",
     "output_type": "stream",
     "text": [
      "Gradient check passed!\n"
     ]
    },
    {
     "data": {
      "text/plain": [
       "True"
      ]
     },
     "execution_count": 18,
     "metadata": {},
     "output_type": "execute_result"
    }
   ],
   "source": [
    "# TODO Implement l2_regularization function that implements loss for L2 regularization\n",
    "linear_classifer.l2_regularization(W, 0.01)\n",
    "check_gradient(lambda w: linear_classifer.l2_regularization(w, 0.01), W)"
   ]
  },
  {
   "cell_type": "markdown",
   "metadata": {},
   "source": [
    "# Тренировка!"
   ]
  },
  {
   "cell_type": "markdown",
   "metadata": {},
   "source": [
    "Градиенты в порядке, реализуем процесс тренировки!"
   ]
  },
  {
   "cell_type": "code",
   "execution_count": 19,
   "metadata": {},
   "outputs": [
    {
     "name": "stdout",
     "output_type": "stream",
     "text": [
      "Epoch 0, loss: 898.952293\n",
      "Epoch 1, loss: 816.194774\n",
      "Epoch 2, loss: 891.429815\n",
      "Epoch 3, loss: 814.898675\n",
      "Epoch 4, loss: 929.844823\n",
      "Epoch 5, loss: 865.632208\n",
      "Epoch 6, loss: 931.091506\n",
      "Epoch 7, loss: 1013.350902\n",
      "Epoch 8, loss: 914.784839\n",
      "Epoch 9, loss: 813.284659\n"
     ]
    }
   ],
   "source": [
    "# TODO: Implement LinearSoftmaxClassifier.fit function\n",
    "classifier = linear_classifer.LinearSoftmaxClassifier()\n",
    "loss_history = classifier.fit(\n",
    "    train_X, train_y, epochs=10, learning_rate=1e-3, batch_size=300, reg=1e1)"
   ]
  },
  {
   "cell_type": "code",
   "execution_count": 20,
   "metadata": {},
   "outputs": [
    {
     "data": {
      "text/plain": [
       "[<matplotlib.lines.Line2D at 0x7ff90cccd280>]"
      ]
     },
     "execution_count": 20,
     "metadata": {},
     "output_type": "execute_result"
    },
    {
     "data": {
      "image/png": "[encoded data removed]",
      "text/plain": [
       "<Figure size 432x288 with 1 Axes>"
      ]
     },
     "metadata": {
      "needs_background": "light"
     },
     "output_type": "display_data"
    }
   ],
   "source": [
    "# let's look at the loss history!\n",
    "plt.plot(loss_history)"
   ]
  },
  {
   "cell_type": "code",
   "execution_count": 21,
   "metadata": {},
   "outputs": [
    {
     "name": "stdout",
     "output_type": "stream",
     "text": [
      "Accuracy:  0.15\n",
      "Epoch 0, loss: 944.903286\n",
      "Epoch 1, loss: 749.665666\n",
      "Epoch 2, loss: 998.808337\n",
      "Epoch 3, loss: 856.117335\n",
      "Epoch 4, loss: 967.788841\n",
      "Epoch 5, loss: 776.844931\n",
      "Epoch 6, loss: 715.805885\n",
      "Epoch 7, loss: 886.629020\n",
      "Epoch 8, loss: 825.677675\n",
      "Epoch 9, loss: 841.382084\n",
      "Epoch 10, loss: 829.201472\n",
      "Epoch 11, loss: 869.654826\n",
      "Epoch 12, loss: 948.022522\n",
      "Epoch 13, loss: 1005.674605\n",
      "Epoch 14, loss: 861.247777\n",
      "Epoch 15, loss: 782.456888\n",
      "Epoch 16, loss: 902.937625\n",
      "Epoch 17, loss: 757.488625\n",
      "Epoch 18, loss: 892.230149\n",
      "Epoch 19, loss: 822.012115\n",
      "Epoch 20, loss: 781.078026\n",
      "Epoch 21, loss: 934.127674\n",
      "Epoch 22, loss: 789.135894\n",
      "Epoch 23, loss: 824.718938\n",
      "Epoch 24, loss: 704.912313\n",
      "Epoch 25, loss: 915.871542\n",
      "Epoch 26, loss: 911.931770\n",
      "Epoch 27, loss: 860.948069\n",
      "Epoch 28, loss: 978.683723\n",
      "Epoch 29, loss: 885.967114\n",
      "Epoch 30, loss: 723.218318\n",
      "Epoch 31, loss: 1044.913209\n",
      "Epoch 32, loss: 866.798825\n",
      "Epoch 33, loss: 843.543127\n",
      "Epoch 34, loss: 891.900430\n",
      "Epoch 35, loss: 862.928630\n",
      "Epoch 36, loss: 806.273173\n",
      "Epoch 37, loss: 841.787247\n",
      "Epoch 38, loss: 962.310530\n",
      "Epoch 39, loss: 872.513305\n",
      "Epoch 40, loss: 736.988807\n",
      "Epoch 41, loss: 967.912493\n",
      "Epoch 42, loss: 714.131563\n",
      "Epoch 43, loss: 739.533045\n",
      "Epoch 44, loss: 882.713526\n",
      "Epoch 45, loss: 868.146164\n",
      "Epoch 46, loss: 903.303924\n",
      "Epoch 47, loss: 720.907867\n",
      "Epoch 48, loss: 893.109228\n",
      "Epoch 49, loss: 969.509150\n",
      "Epoch 50, loss: 866.007931\n",
      "Epoch 51, loss: 824.308712\n",
      "Epoch 52, loss: 805.104439\n",
      "Epoch 53, loss: 825.510941\n",
      "Epoch 54, loss: 843.480887\n",
      "Epoch 55, loss: 829.608360\n",
      "Epoch 56, loss: 827.944498\n",
      "Epoch 57, loss: 770.629551\n",
      "Epoch 58, loss: 901.718324\n",
      "Epoch 59, loss: 877.553312\n",
      "Epoch 60, loss: 764.389510\n",
      "Epoch 61, loss: 899.589369\n",
      "Epoch 62, loss: 877.123306\n",
      "Epoch 63, loss: 1068.022117\n",
      "Epoch 64, loss: 788.071035\n",
      "Epoch 65, loss: 916.234058\n",
      "Epoch 66, loss: 811.844016\n",
      "Epoch 67, loss: 1139.547653\n",
      "Epoch 68, loss: 1001.961812\n",
      "Epoch 69, loss: 1071.934420\n",
      "Epoch 70, loss: 900.803793\n",
      "Epoch 71, loss: 771.870998\n",
      "Epoch 72, loss: 786.335177\n",
      "Epoch 73, loss: 719.422272\n",
      "Epoch 74, loss: 791.161262\n",
      "Epoch 75, loss: 1077.612666\n",
      "Epoch 76, loss: 713.864637\n",
      "Epoch 77, loss: 990.061965\n",
      "Epoch 78, loss: 697.273220\n",
      "Epoch 79, loss: 947.206754\n",
      "Epoch 80, loss: 888.554416\n",
      "Epoch 81, loss: 851.291528\n",
      "Epoch 82, loss: 1140.714769\n",
      "Epoch 83, loss: 889.104430\n",
      "Epoch 84, loss: 932.077691\n",
      "Epoch 85, loss: 781.986739\n",
      "Epoch 86, loss: 816.729916\n",
      "Epoch 87, loss: 706.598807\n",
      "Epoch 88, loss: 856.661582\n",
      "Epoch 89, loss: 917.028655\n",
      "Epoch 90, loss: 718.086961\n",
      "Epoch 91, loss: 993.713213\n",
      "Epoch 92, loss: 935.440485\n",
      "Epoch 93, loss: 910.426784\n",
      "Epoch 94, loss: 874.258410\n",
      "Epoch 95, loss: 967.428192\n",
      "Epoch 96, loss: 859.438652\n",
      "Epoch 97, loss: 995.440238\n",
      "Epoch 98, loss: 824.099228\n",
      "Epoch 99, loss: 807.615104\n",
      "Accuracy after training for 100 epochs:  0.146\n"
     ]
    }
   ],
   "source": [
    "# Let's check how it performs on validation set\n",
    "pred = classifier.predict(val_X)\n",
    "accuracy = multiclass_accuracy(pred, val_y)\n",
    "print(\"Accuracy: \", accuracy)\n",
    "\n",
    "# Now, let's train more and see if it performs better\n",
    "classifier.fit(train_X, train_y, epochs=100,\n",
    "               learning_rate=1e-3, batch_size=300, reg=1e1)\n",
    "pred = classifier.predict(val_X)\n",
    "accuracy = multiclass_accuracy(pred, val_y)\n",
    "print(\"Accuracy after training for 100 epochs: \", accuracy)"
   ]
  },
  {
   "cell_type": "markdown",
   "metadata": {},
   "source": [
    "### Как и раньше, используем кросс-валидацию для подбора гиперпараметтов.\n",
    "\n",
    "В этот раз, чтобы тренировка занимала разумное время, мы будем использовать только одно разделение на тренировочные (training) и проверочные (validation) данные.\n",
    "\n",
    "Теперь нам нужно подобрать не один, а два гиперпараметра! Не ограничивайте себя изначальными значениями в коде.  \n",
    "Добейтесь точности более чем **20%** на проверочных данных (validation data)."
   ]
  },
  {
   "cell_type": "code",
   "execution_count": 23,
   "metadata": {},
   "outputs": [
    {
     "name": "stdout",
     "output_type": "stream",
     "text": [
      "Epoch 0, loss: 988.679519\n",
      "Epoch 1, loss: 837.738728\n",
      "Epoch 2, loss: 979.646109\n",
      "Epoch 3, loss: 819.101998\n",
      "Epoch 4, loss: 1025.840791\n",
      "Epoch 5, loss: 826.299260\n",
      "Epoch 6, loss: 918.958054\n",
      "Epoch 7, loss: 815.013211\n",
      "Epoch 8, loss: 830.929424\n",
      "Epoch 9, loss: 910.285704\n",
      "Epoch 10, loss: 819.533693\n",
      "Epoch 11, loss: 794.711049\n",
      "Epoch 12, loss: 1000.704011\n",
      "Epoch 13, loss: 895.768566\n",
      "Epoch 14, loss: 917.207338\n",
      "Epoch 15, loss: 838.544555\n",
      "Epoch 16, loss: 800.265188\n",
      "Epoch 17, loss: 730.209026\n",
      "Epoch 18, loss: 835.837186\n",
      "Epoch 19, loss: 768.848724\n",
      "Epoch 20, loss: 778.166127\n",
      "Epoch 21, loss: 669.595549\n",
      "Epoch 22, loss: 754.208179\n",
      "Epoch 23, loss: 692.188395\n",
      "Epoch 24, loss: 934.975000\n",
      "Epoch 25, loss: 705.365131\n",
      "Epoch 26, loss: 654.494441\n",
      "Epoch 27, loss: 816.581425\n",
      "Epoch 28, loss: 885.325652\n",
      "Epoch 29, loss: 810.227667\n",
      "Epoch 30, loss: 881.710591\n",
      "Epoch 31, loss: 740.823461\n",
      "Epoch 32, loss: 757.305192\n",
      "Epoch 33, loss: 799.279522\n",
      "Epoch 34, loss: 732.266937\n",
      "Epoch 35, loss: 855.460304\n",
      "Epoch 36, loss: 725.541671\n",
      "Epoch 37, loss: 873.412842\n",
      "Epoch 38, loss: 786.336076\n",
      "Epoch 39, loss: 952.538637\n",
      "Epoch 40, loss: 808.459338\n",
      "Epoch 41, loss: 856.330373\n",
      "Epoch 42, loss: 760.757393\n",
      "Epoch 43, loss: 818.477029\n",
      "Epoch 44, loss: 905.857855\n",
      "Epoch 45, loss: 824.721226\n",
      "Epoch 46, loss: 756.003296\n",
      "Epoch 47, loss: 734.953760\n",
      "Epoch 48, loss: 812.074519\n",
      "Epoch 49, loss: 955.965218\n",
      "Epoch 50, loss: 707.021343\n",
      "Epoch 51, loss: 922.181903\n",
      "Epoch 52, loss: 901.704705\n",
      "Epoch 53, loss: 693.128464\n",
      "Epoch 54, loss: 829.056404\n",
      "Epoch 55, loss: 819.218782\n",
      "Epoch 56, loss: 751.185232\n",
      "Epoch 57, loss: 993.547894\n",
      "Epoch 58, loss: 759.049478\n",
      "Epoch 59, loss: 718.191225\n",
      "Epoch 60, loss: 770.452641\n",
      "Epoch 61, loss: 633.437795\n",
      "Epoch 62, loss: 917.485668\n",
      "Epoch 63, loss: 776.827457\n",
      "Epoch 64, loss: 778.372806\n",
      "Epoch 65, loss: 721.268209\n",
      "Epoch 66, loss: 702.191697\n",
      "Epoch 67, loss: 825.925070\n",
      "Epoch 68, loss: 872.225899\n",
      "Epoch 69, loss: 712.329313\n",
      "Epoch 70, loss: 702.694991\n",
      "Epoch 71, loss: 685.883774\n",
      "Epoch 72, loss: 659.606721\n",
      "Epoch 73, loss: 725.403427\n",
      "Epoch 74, loss: 770.247587\n",
      "Epoch 75, loss: 765.920889\n",
      "Epoch 76, loss: 769.880705\n",
      "Epoch 77, loss: 793.446030\n",
      "Epoch 78, loss: 721.434696\n",
      "Epoch 79, loss: 772.104662\n",
      "Epoch 80, loss: 714.905437\n",
      "Epoch 81, loss: 753.734318\n",
      "Epoch 82, loss: 716.934383\n",
      "Epoch 83, loss: 832.999727\n",
      "Epoch 84, loss: 860.219599\n",
      "Epoch 85, loss: 777.392449\n",
      "Epoch 86, loss: 834.980496\n",
      "Epoch 87, loss: 979.237157\n",
      "Epoch 88, loss: 644.116588\n",
      "Epoch 89, loss: 871.623698\n",
      "Epoch 90, loss: 814.725182\n",
      "Epoch 91, loss: 724.779947\n",
      "Epoch 92, loss: 992.442164\n",
      "Epoch 93, loss: 793.794001\n",
      "Epoch 94, loss: 878.566445\n",
      "Epoch 95, loss: 754.050020\n",
      "Epoch 96, loss: 775.664850\n",
      "Epoch 97, loss: 695.977277\n",
      "Epoch 98, loss: 646.648163\n",
      "Epoch 99, loss: 627.892250\n",
      "Accuracy after training for 200 epochs:  0.177\n",
      "Best validation accuracy achieved: 0.177000\n",
      "Best learning rate: 0.001000. Best reularization strength: 0.000100\n"
     ]
    }
   ],
   "source": [
    "num_epochs = 100\n",
    "batch_size = 300\n",
    "\n",
    "learning_rates = [1e-3]\n",
    "reg_strengths = [1e-4]\n",
    "\n",
    "best_classifier = None\n",
    "best_val_accuracy = 0.0\n",
    "\n",
    "# TODO use validation set to find the best hyperparameters\n",
    "# hint: for best results, you might need to try more values for learning rate and regularization strength\n",
    "# than provided initially\n",
    "\n",
    "for learning_rate in learning_rates:\n",
    "    for reg_strength in reg_strengths:\n",
    "        classifier = linear_classifer.LinearSoftmaxClassifier()\n",
    "        classifier.fit(train_X, train_y, epochs=num_epochs,\n",
    "                       learning_rate=learning_rate, batch_size=batch_size, reg=reg_strength)\n",
    "        pred = classifier.predict(val_X)\n",
    "        accuracy = multiclass_accuracy(pred, val_y)\n",
    "\n",
    "        # checking for the best accuracy\n",
    "        if accuracy > best_val_accuracy:\n",
    "            best_val_accuracy = accuracy\n",
    "            best_classifier = classifier\n",
    "            learn_best = learning_rate\n",
    "            reg_best = reg_strength\n",
    "print(\"Accuracy after training for 200 epochs: \", accuracy)\n",
    "print('Best validation accuracy achieved: %f' % best_val_accuracy)\n",
    "print(\"Best learning rate: %f. Best reularization strength: %f\" %\n",
    "      (learn_best, reg_best))"
   ]
  },
  {
   "cell_type": "markdown",
   "metadata": {},
   "source": [
    "# Какой же точности мы добились на тестовых данных?"
   ]
  },
  {
   "cell_type": "code",
   "execution_count": 24,
   "metadata": {},
   "outputs": [
    {
     "name": "stdout",
     "output_type": "stream",
     "text": [
      "Linear softmax classifier test set accuracy: 0.174000\n"
     ]
    }
   ],
   "source": [
    "test_pred = best_classifier.predict(test_X)\n",
    "test_accuracy = multiclass_accuracy(test_pred, test_y)\n",
    "print('Linear softmax classifier test set accuracy: %f' % (test_accuracy, ))"
   ]
  },
  {
   "cell_type": "code",
   "execution_count": null,
   "metadata": {},
   "outputs": [],
   "source": []
  }
 ],
 "metadata": {
  "kernelspec": {
   "display_name": "Python 3",
   "language": "python",
   "name": "python3"
  },
  "language_info": {
   "codemirror_mode": {
    "name": "ipython",
    "version": 3
   },
   "file_extension": ".py",
   "mimetype": "text/x-python",
   "name": "python",
   "nbconvert_exporter": "python",
   "pygments_lexer": "ipython3",
   "version": "3.8.5"
  }
 },
 "nbformat": 4,
 "nbformat_minor": 4
}
